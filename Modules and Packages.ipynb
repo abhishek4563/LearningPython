{
 "cells": [
  {
   "cell_type": "code",
   "execution_count": null,
   "id": "385f6005",
   "metadata": {},
   "outputs": [],
   "source": [
    "# a lot of this lecture could not be illustrated in note books \n",
    "# however, I have a bunch of modules and submodules created (.py via sublime text and added into the git)\n",
    "# and a sample script to call them from\n",
    "# I have also neatly captured all this in my one note "
   ]
  }
 ],
 "metadata": {
  "kernelspec": {
   "display_name": "Python 3 (ipykernel)",
   "language": "python",
   "name": "python3"
  },
  "language_info": {
   "codemirror_mode": {
    "name": "ipython",
    "version": 3
   },
   "file_extension": ".py",
   "mimetype": "text/x-python",
   "name": "python",
   "nbconvert_exporter": "python",
   "pygments_lexer": "ipython3",
   "version": "3.11.3"
  }
 },
 "nbformat": 4,
 "nbformat_minor": 5
}

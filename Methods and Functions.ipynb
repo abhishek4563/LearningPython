{
 "cells": [
  {
   "cell_type": "markdown",
   "metadata": {},
   "source": [
    "## Functions Basics"
   ]
  },
  {
   "cell_type": "code",
   "execution_count": 11,
   "metadata": {},
   "outputs": [],
   "source": [
    "l =[1,2,3,4,5]"
   ]
  },
  {
   "cell_type": "code",
   "execution_count": 12,
   "metadata": {},
   "outputs": [
    {
     "name": "stdout",
     "output_type": "stream",
     "text": [
      "Help on built-in function copy:\n",
      "\n",
      "copy() method of builtins.list instance\n",
      "    Return a shallow copy of the list.\n",
      "\n"
     ]
    }
   ],
   "source": [
    "l.copy  # shift tab to get help \n",
    "help(l.copy) # or the help function \n",
    "# or python documentation"
   ]
  },
  {
   "cell_type": "code",
   "execution_count": 6,
   "metadata": {
    "collapsed": true
   },
   "outputs": [],
   "source": [
    "# notice that we use snake casing for function names in python and camel casing for classes and stuff\n",
    "def a_function(n='n'): # def key word, default value in argument. default value will avoid errors if we dont pass this argument while calling the function\n",
    "    '''\n",
    "    DOCSTRING: this is my first python function\n",
    "    '''\n",
    "    print(n) # notice no curly braces in python unlike c++, notice no need to specify type of funtion unlike c++\n",
    "    return n*2 # this one retunrs something, in-place wont return and outpit cant be assigned "
   ]
  },
  {
   "cell_type": "code",
   "execution_count": 7,
   "metadata": {},
   "outputs": [
    {
     "name": "stdout",
     "output_type": "stream",
     "text": [
      "gimme a number23\n",
      "23\n"
     ]
    },
    {
     "data": {
      "text/plain": [
       "46"
      ]
     },
     "execution_count": 7,
     "metadata": {},
     "output_type": "execute_result"
    }
   ],
   "source": [
    "n=int(input('gimme a number'))\n",
    "a_function(n)\n"
   ]
  },
  {
   "cell_type": "code",
   "execution_count": 9,
   "metadata": {
    "collapsed": true
   },
   "outputs": [],
   "source": [
    "def dog_check (s = 'no dog'): # dog check example, notice to lower and that in already retunrs a boolean so no need of if statement\n",
    "    return 'dog' in s.lower()\n",
    "def pig_latin (s = 'ripple'): # notice the use on in and concat, return etc.\n",
    "    if s[0] in 'aeiou':\n",
    "        return s+'ay'\n",
    "    else:\n",
    "        return s[1:]+s[0]+'ay'"
   ]
  },
  {
   "cell_type": "code",
   "execution_count": 10,
   "metadata": {},
   "outputs": [
    {
     "name": "stdout",
     "output_type": "stream",
     "text": [
      "True\n",
      "appleay\n",
      "ordway\n"
     ]
    }
   ],
   "source": [
    "print(dog_check('there is no dog here'))\n",
    "print (pig_latin('apple'))\n",
    "print(pig_latin('word'))"
   ]
  },
  {
   "cell_type": "markdown",
   "metadata": {},
   "source": [
    "## args and kwargs in python functions"
   ]
  },
  {
   "cell_type": "code",
   "execution_count": 13,
   "metadata": {
    "collapsed": true
   },
   "outputs": [],
   "source": [
    "def yo_max (*args): # * keyword enables you to get a variable number of imputs as a tuple to your function\n",
    "    print(f'args = {args}')# args name is convention, * is what is important"
   ]
  },
  {
   "cell_type": "code",
   "execution_count": 14,
   "metadata": {},
   "outputs": [
    {
     "name": "stdout",
     "output_type": "stream",
     "text": [
      "args = (1, 'two')\n"
     ]
    }
   ],
   "source": [
    "yo_max(1,'two')"
   ]
  },
  {
   "cell_type": "code",
   "execution_count": 15,
   "metadata": {
    "collapsed": true
   },
   "outputs": [],
   "source": [
    "def yo_yo_max (**args): # ** keyword enables you to get a variable number keyword value pairs as inputs\n",
    "    print(f'args = {args}') #kwargs name is conventional, ** is what is important!"
   ]
  },
  {
   "cell_type": "code",
   "execution_count": 16,
   "metadata": {},
   "outputs": [
    {
     "name": "stdout",
     "output_type": "stream",
     "text": [
      "args = {'fruit': 'banana', 'me': 'person'}\n"
     ]
    }
   ],
   "source": [
    "yo_yo_max(fruit='banana', me = 'person')"
   ]
  },
  {
   "cell_type": "code",
   "execution_count": 18,
   "metadata": {},
   "outputs": [],
   "source": [
    "def yo_yo_yo_max (*args,**kwargs ): # both can be used simultaneously but order would matter now \n",
    "    print(f'args = {args}, kwargs = {kwargs}') #   kwargs has to come second when both are being used "
   ]
  },
  {
   "cell_type": "code",
   "execution_count": 19,
   "metadata": {},
   "outputs": [
    {
     "name": "stdout",
     "output_type": "stream",
     "text": [
      "args = (1, 'two'), kwargs = {'fruit': 'banana', 'me': 'person'}\n"
     ]
    }
   ],
   "source": [
    "yo_yo_yo_max(1,'two',fruit='banana', me = 'person')"
   ]
  },
  {
   "cell_type": "code",
   "execution_count": null,
   "metadata": {
    "collapsed": true
   },
   "outputs": [],
   "source": [
    "**kwargs, "
   ]
  },
  {
   "cell_type": "markdown",
   "metadata": {},
   "source": [
    "#### Maps and filter stuff is in the statements and operators notebook "
   ]
  },
  {
   "cell_type": "code",
   "execution_count": null,
   "metadata": {},
   "outputs": [],
   "source": [
    "# the below code is from an exercise in the course"
   ]
  },
  {
   "cell_type": "code",
   "execution_count": 20,
   "metadata": {},
   "outputs": [],
   "source": [
    "def myfunc(s):\n",
    "    r=''\n",
    "    for i in range(0,len(s)):\n",
    "        if i%2!=0:\n",
    "            r+=s[i].upper()\n",
    "        else:\n",
    "            r+=s[i].lower()\n",
    "    return r"
   ]
  },
  {
   "cell_type": "code",
   "execution_count": 18,
   "metadata": {},
   "outputs": [],
   "source": [
    "s='abcf'"
   ]
  },
  {
   "cell_type": "code",
   "execution_count": 21,
   "metadata": {},
   "outputs": [
    {
     "data": {
      "text/plain": [
       "'aBcF'"
      ]
     },
     "execution_count": 21,
     "metadata": {},
     "output_type": "execute_result"
    }
   ],
   "source": [
    "myfunc(s)"
   ]
  },
  {
   "cell_type": "code",
   "execution_count": null,
   "metadata": {},
   "outputs": [],
   "source": [
    "s."
   ]
  }
 ],
 "metadata": {
  "kernelspec": {
   "display_name": "Python 3 (ipykernel)",
   "language": "python",
   "name": "python3"
  },
  "language_info": {
   "codemirror_mode": {
    "name": "ipython",
    "version": 3
   },
   "file_extension": ".py",
   "mimetype": "text/x-python",
   "name": "python",
   "nbconvert_exporter": "python",
   "pygments_lexer": "ipython3",
   "version": "3.9.12"
  }
 },
 "nbformat": 4,
 "nbformat_minor": 2
}

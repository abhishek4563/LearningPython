{
 "cells": [
  {
   "cell_type": "code",
   "execution_count": 4,
   "metadata": {},
   "outputs": [
    {
     "name": "stdout",
     "output_type": "stream",
     "text": [
      "numbers dont add up\n",
      "I always get executed\n"
     ]
    }
   ],
   "source": [
    "try:\n",
    "    a = '2'\n",
    "    b=3\n",
    "    c=a+b\n",
    "except TypeError: # specific errors can eb caught \n",
    "    print('numbers dont add up')\n",
    "else : # this is what will happen if exception raised but not TypeErros\n",
    "    print ('there was problem with the add')\n",
    "finally: # this will always get excuted\n",
    "    print('I always get executed')"
   ]
  },
  {
   "cell_type": "code",
   "execution_count": 9,
   "metadata": {},
   "outputs": [
    {
     "name": "stdout",
     "output_type": "stream",
     "text": [
      "you got an OS Error\n",
      " I always run\n"
     ]
    }
   ],
   "source": [
    "try:\n",
    "    f = open('abcd.txt','r')\n",
    "    f.write('here is a line')\n",
    "except OSError:\n",
    "    print ('you got an OS Error')\n",
    "finally:\n",
    "    print (' I always run')\n"
   ]
  },
  {
   "cell_type": "code",
   "execution_count": 6,
   "metadata": {},
   "outputs": [
    {
     "data": {
      "text/plain": [
       "'/Users/abhishek/Documents/Personal/SelfLearning/Python'"
      ]
     },
     "execution_count": 6,
     "metadata": {},
     "output_type": "execute_result"
    }
   ],
   "source": [
    "pwd"
   ]
  },
  {
   "cell_type": "code",
   "execution_count": 10,
   "metadata": {},
   "outputs": [
    {
     "name": "stdout",
     "output_type": "stream",
     "text": [
      "gimme a numberr\n",
      "that is not a number\n",
      "I always get executed\n",
      "gimme a numberr\n",
      "that is not a number\n",
      "I always get executed\n",
      "gimme a number3\n",
      "thanks for giveing a number\n",
      "I always get executed\n"
     ]
    }
   ],
   "source": [
    "while True:\n",
    "    try:\n",
    "        result = int(input('gimme a number'))\n",
    "    except:\n",
    "        print ('that is not a number')\n",
    "    else:\n",
    "        print('thanks for giveing a number')\n",
    "        break\n",
    "    finally:\n",
    "        print('I always get executed')"
   ]
  },
  {
   "cell_type": "code",
   "execution_count": 12,
   "metadata": {},
   "outputs": [
    {
     "name": "stdout",
     "output_type": "stream",
     "text": [
      "gimme a numberr\n",
      "that is not a number\n",
      "I always get executed\n",
      "gimme a numberr\n",
      "that is not a number\n",
      "I always get executed\n",
      "gimme a number3\n",
      "thanks for giveing a number\n",
      "I always get executed\n"
     ]
    }
   ],
   "source": [
    "while True:\n",
    "    try:\n",
    "        result = int(input('gimme a number'))\n",
    "    except:\n",
    "        print ('that is not a number')\n",
    "        continue\n",
    "    else:\n",
    "        print('thanks for giveing a number')\n",
    "        break\n",
    "    finally:\n",
    "        print('I always get executed')"
   ]
  },
  {
   "cell_type": "code",
   "execution_count": null,
   "metadata": {
    "collapsed": true
   },
   "outputs": [],
   "source": []
  }
 ],
 "metadata": {
  "kernelspec": {
   "display_name": "Python 3",
   "language": "python",
   "name": "python3"
  },
  "language_info": {
   "codemirror_mode": {
    "name": "ipython",
    "version": 3
   },
   "file_extension": ".py",
   "mimetype": "text/x-python",
   "name": "python",
   "nbconvert_exporter": "python",
   "pygments_lexer": "ipython3",
   "version": "3.6.3"
  }
 },
 "nbformat": 4,
 "nbformat_minor": 2
}

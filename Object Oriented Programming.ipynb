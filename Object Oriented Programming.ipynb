{
 "cells": [
  {
   "cell_type": "code",
   "execution_count": 1,
   "metadata": {
    "collapsed": true
   },
   "outputs": [],
   "source": [
    "class Dog(): # (), camel case convention\n",
    "    def __init__(self, breed, name, spots): # constructor, self reference, breed name 3 times convention need not be same\n",
    "        self.breed = breed \n",
    "        self.name = name\n",
    "        self.spots = spots"
   ]
  },
  {
   "cell_type": "code",
   "execution_count": 3,
   "metadata": {},
   "outputs": [
    {
     "name": "stdout",
     "output_type": "stream",
     "text": [
      "<__main__.Dog object at 0x106068908>\n",
      "Pommy\n",
      "jimmy\n",
      "not many\n"
     ]
    }
   ],
   "source": [
    "d = Dog(breed = 'Pommy', name = 'jimmy', spots = 'not many')\n",
    "print(d)\n",
    "type(d)\n",
    "print(d.breed)\n",
    "print(d.name)\n",
    "print(d.spots)\n",
    "\n"
   ]
  },
  {
   "cell_type": "code",
   "execution_count": 4,
   "metadata": {
    "collapsed": true
   },
   "outputs": [],
   "source": [
    "class DogBeta(): # (), camel case convention\n",
    "    # Class Object Attrinbute\n",
    "    species = 'mammal' this will be mammal for all instance of the class, notice 'self' referencing not needed here\n",
    "    def __init__(self, breed, name, spots): # constructor, self reference, breed name 3 times convention need not be same\n",
    "        self.breed = breed \n",
    "        self.name = name\n",
    "        self.spots = spots\n",
    "    def bark(self,number):\n",
    "        print(f'woof, breed is {self.breed} and number is {number}') # notice use of self in breed but not in number"
   ]
  },
  {
   "cell_type": "code",
   "execution_count": 9,
   "metadata": {},
   "outputs": [
    {
     "name": "stdout",
     "output_type": "stream",
     "text": [
      "foxy\n",
      "woof, breed is lab and number is 3\n"
     ]
    },
    {
     "data": {
      "text/plain": [
       "'mammal'"
      ]
     },
     "execution_count": 9,
     "metadata": {},
     "output_type": "execute_result"
    }
   ],
   "source": [
    "db = DogBeta(breed = 'lab', spots = 'no', name = 'foxy')\n",
    "print(db.name)\n",
    "db.bark(3) #now it NEEDS a number \n",
    "DogBeta.species # Class Object Attirbyte can be accessed by directly using name of the class (and not just hte particualr instance)"
   ]
  },
  {
   "cell_type": "markdown",
   "metadata": {
    "collapsed": true
   },
   "source": [
    "### Inehritance "
   ]
  },
  {
   "cell_type": "code",
   "execution_count": 13,
   "metadata": {
    "collapsed": true
   },
   "outputs": [],
   "source": [
    "class Animal():  # class animal \n",
    "    def __init__(self): #note that passing self is complusary as the class object is perhaps automatically passed to it\n",
    "        print('Animal Created')\n",
    "    def whoami(self):\n",
    "        print('I am an animal')\n",
    "    def eat(self):\n",
    "        print('I am eating')"
   ]
  },
  {
   "cell_type": "code",
   "execution_count": 14,
   "metadata": {},
   "outputs": [
    {
     "name": "stdout",
     "output_type": "stream",
     "text": [
      "Animal Created\n"
     ]
    }
   ],
   "source": [
    "a = Animal()"
   ]
  },
  {
   "cell_type": "code",
   "execution_count": 19,
   "metadata": {
    "collapsed": true
   },
   "outputs": [],
   "source": [
    "class Dog(Animal): # inherits Animal class by passing CLass Name in class definition\n",
    "    def __init__(self):\n",
    "        Animal.__init__(self) # got access to Animal class's constructor \n",
    "        print('dog created')\n",
    "    def bark(self):\n",
    "        print('Woof Woof')\n",
    "    def eat(self):\n",
    "        print ('I am eating dog food') # overriding parent class eat method"
   ]
  },
  {
   "cell_type": "code",
   "execution_count": 21,
   "metadata": {},
   "outputs": [
    {
     "name": "stdout",
     "output_type": "stream",
     "text": [
      "Animal Created\n",
      "dog created\n"
     ]
    }
   ],
   "source": [
    "d = Dog()"
   ]
  },
  {
   "cell_type": "code",
   "execution_count": 24,
   "metadata": {},
   "outputs": [
    {
     "name": "stdout",
     "output_type": "stream",
     "text": [
      "I am eating dog food\n",
      "I am eating\n"
     ]
    }
   ],
   "source": [
    "d.eat()\n",
    "a.eat() "
   ]
  },
  {
   "cell_type": "code",
   "execution_count": 22,
   "metadata": {},
   "outputs": [
    {
     "name": "stdout",
     "output_type": "stream",
     "text": [
      "I am eating dog food\n"
     ]
    }
   ],
   "source": [
    "d.eat() # overridden method getting invoked here "
   ]
  },
  {
   "cell_type": "code",
   "execution_count": 26,
   "metadata": {},
   "outputs": [
    {
     "name": "stdout",
     "output_type": "stream",
     "text": [
      "I am an animal\n",
      "I am an animal\n"
     ]
    }
   ],
   "source": [
    "a.whoami() \n",
    "d.whoami() # this method is same in both! as it was automatically inherited by dog! "
   ]
  },
  {
   "cell_type": "markdown",
   "metadata": {},
   "source": [
    "### Polymorphism"
   ]
  },
  {
   "cell_type": "code",
   "execution_count": 59,
   "metadata": {},
   "outputs": [],
   "source": [
    "class Cat(Animal): \n",
    "    def __init__(self): # if this is not overridden then parent class function is called\n",
    "        Animal.__init__(self) \n",
    "        print('cat created') \n",
    "    def speak(self):\n",
    "        print('Meow')\n",
    "    def eat(self): # dog and cat both have eat function but differnet definitions\n",
    "        print ('I am eating cat food') "
   ]
  },
  {
   "cell_type": "code",
   "execution_count": 60,
   "metadata": {},
   "outputs": [
    {
     "name": "stdout",
     "output_type": "stream",
     "text": [
      "Animal Created\n"
     ]
    }
   ],
   "source": [
    "c = Cat()"
   ]
  },
  {
   "cell_type": "code",
   "execution_count": 30,
   "metadata": {},
   "outputs": [
    {
     "name": "stdout",
     "output_type": "stream",
     "text": [
      "I am eating dog food\n",
      "I am eating cat food\n"
     ]
    }
   ],
   "source": [
    "d.eat()\n",
    "c.eat()"
   ]
  },
  {
   "cell_type": "code",
   "execution_count": 31,
   "metadata": {},
   "outputs": [
    {
     "name": "stdout",
     "output_type": "stream",
     "text": [
      "I am eating cat food\n",
      "I am eating dog food\n"
     ]
    }
   ],
   "source": [
    "l = [c,d]\n",
    "for i in l:\n",
    "    i.eat()  # here you can call eat() and depending on which class s object it is the appropriate function would be called"
   ]
  },
  {
   "cell_type": "code",
   "execution_count": 32,
   "metadata": {
    "collapsed": true
   },
   "outputs": [],
   "source": [
    "def feedanimals(a):  # method calls the function without knowing type\n",
    "    a.eat()\n",
    "    "
   ]
  },
  {
   "cell_type": "code",
   "execution_count": 33,
   "metadata": {},
   "outputs": [
    {
     "name": "stdout",
     "output_type": "stream",
     "text": [
      "I am eating cat food\n",
      "I am eating dog food\n"
     ]
    }
   ],
   "source": [
    "feedanimals(c)\n",
    "feedanimals(d) # appropriate method called at run time based on object type"
   ]
  },
  {
   "cell_type": "code",
   "execution_count": 53,
   "metadata": {},
   "outputs": [],
   "source": [
    "class Book():\n",
    "    def __init__(self,name,author):\n",
    "        self.name = name\n",
    "        self.author =author\n",
    "        print (f'book created {self.name} by {self.author}')\n",
    "    def __str__(self): # overriding inbuilt python funcitons, this wil help in pring \n",
    "        return (f'{self.name} by {self.author}')\n",
    "    def __len__(self): # len function, nust return an int\n",
    "        return (200)\n",
    "    def __del__(self): # extra stuff to happen when object deleted!\n",
    "        print (f'book {self.name} deleted')"
   ]
  },
  {
   "cell_type": "code",
   "execution_count": 54,
   "metadata": {},
   "outputs": [
    {
     "name": "stdout",
     "output_type": "stream",
     "text": [
      "book created drive by dan pink\n",
      "book drive deleted\n"
     ]
    }
   ],
   "source": [
    "b = Book('drive', 'dan pink')"
   ]
  },
  {
   "cell_type": "code",
   "execution_count": 55,
   "metadata": {},
   "outputs": [
    {
     "name": "stdout",
     "output_type": "stream",
     "text": [
      "drive by dan pink\n"
     ]
    }
   ],
   "source": [
    "print(b)"
   ]
  },
  {
   "cell_type": "code",
   "execution_count": 56,
   "metadata": {},
   "outputs": [
    {
     "data": {
      "text/plain": [
       "200"
      ]
     },
     "execution_count": 56,
     "metadata": {},
     "output_type": "execute_result"
    }
   ],
   "source": [
    "len(b)"
   ]
  },
  {
   "cell_type": "code",
   "execution_count": null,
   "metadata": {
    "collapsed": true
   },
   "outputs": [],
   "source": []
  },
  {
   "cell_type": "code",
   "execution_count": 57,
   "metadata": {},
   "outputs": [
    {
     "name": "stdout",
     "output_type": "stream",
     "text": [
      "book drive deleted\n"
     ]
    }
   ],
   "source": [
    "del b"
   ]
  },
  {
   "cell_type": "code",
   "execution_count": null,
   "metadata": {
    "collapsed": true
   },
   "outputs": [],
   "source": []
  }
 ],
 "metadata": {
  "kernelspec": {
   "display_name": "Python 3",
   "language": "python",
   "name": "python3"
  },
  "language_info": {
   "codemirror_mode": {
    "name": "ipython",
    "version": 3
   },
   "file_extension": ".py",
   "mimetype": "text/x-python",
   "name": "python",
   "nbconvert_exporter": "python",
   "pygments_lexer": "ipython3",
   "version": "3.6.3"
  }
 },
 "nbformat": 4,
 "nbformat_minor": 2
}

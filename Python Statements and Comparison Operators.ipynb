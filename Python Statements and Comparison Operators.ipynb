{
 "cells": [
  {
   "cell_type": "markdown",
   "metadata": {},
   "source": [
    "## for loop and iterators"
   ]
  },
  {
   "cell_type": "code",
   "execution_count": 1,
   "metadata": {},
   "outputs": [
    {
     "name": "stdout",
     "output_type": "stream",
     "text": [
      "yo\n",
      "yo\n",
      "yo\n",
      "yo\n",
      "yo\n",
      "yo\n",
      "yo\n",
      "yo\n",
      "yo\n",
      "yo\n"
     ]
    }
   ],
   "source": [
    "numbers = [1,2,3,4,5,6,7,8,9,10]\n",
    "for _ in numbers: # underscore if you dont need a variable\n",
    "    print(\"yo\") #indentation really importannt"
   ]
  },
  {
   "cell_type": "code",
   "execution_count": 3,
   "metadata": {},
   "outputs": [
    {
     "name": "stdout",
     "output_type": "stream",
     "text": [
      "odd\n",
      "even\n",
      "odd\n",
      "even\n",
      "odd\n",
      "even\n",
      "odd\n",
      "even\n",
      "odd\n",
      "even\n"
     ]
    }
   ],
   "source": [
    "for num in numbers:\n",
    "    if (num % 2 == 0):\n",
    "        print(\"even\")\n",
    "    else:  # even else needs a : \n",
    "        print (\"odd\")"
   ]
  },
  {
   "cell_type": "code",
   "execution_count": 5,
   "metadata": {},
   "outputs": [
    {
     "name": "stdout",
     "output_type": "stream",
     "text": [
      "length 1\n",
      "length 2\n",
      "length 3\n",
      "length 4\n",
      "length 5\n",
      "length 6\n",
      "length 7\n",
      "length 8\n",
      "length 9\n",
      "done with the loop 9\n"
     ]
    }
   ],
   "source": [
    "name = 'kantiveer'\n",
    "length=0\n",
    "for _ in name: # iterating over string \n",
    "    length = length +1\n",
    "    print(f\"length {length}\") # depending on indentation gets printed every time of in the end\n",
    "print(\"done with the loop {a}\".format(a=length))"
   ]
  },
  {
   "cell_type": "markdown",
   "metadata": {},
   "source": [
    "## tuple unpacking and iterating over dictionaries"
   ]
  },
  {
   "cell_type": "code",
   "execution_count": 8,
   "metadata": {},
   "outputs": [
    {
     "name": "stdout",
     "output_type": "stream",
     "text": [
      "a:1,b:2\n",
      "a:4,b:5\n",
      "a:7,b:8\n"
     ]
    }
   ],
   "source": [
    "lot = [(1,2,3), (4,5,6), (7,8,9)] # tuple unpacking, all elements have to match for upancking to work!\n",
    "for a,b,c in lot:\n",
    "    print(f\"a:{a},b:{b}\")"
   ]
  },
  {
   "cell_type": "code",
   "execution_count": 10,
   "metadata": {},
   "outputs": [
    {
     "name": "stdout",
     "output_type": "stream",
     "text": [
      " by default you get these:k1\n",
      " by default you get these:k2\n",
      " by default you get these:k3\n",
      " by default you get these:k4\n"
     ]
    }
   ],
   "source": [
    "d ={\"k1\":\"v1\", \"k2\":\"v2\", \"k3\":\"v3\", \"k4\":\"v4\"}\n",
    "for t in d:\n",
    "    print(f\" by default you get these:{t}\") # we will iterate over keys by default, need to use .items() if we want to iterte over key value pairs"
   ]
  },
  {
   "cell_type": "code",
   "execution_count": 11,
   "metadata": {},
   "outputs": [
    {
     "name": "stdout",
     "output_type": "stream",
     "text": [
      "items ('k1', 'v1')\n",
      "items ('k2', 'v2')\n",
      "items ('k3', 'v3')\n",
      "items ('k4', 'v4')\n"
     ]
    }
   ],
   "source": [
    "for t in d.items():\n",
    "    print(f\"items {t}\") # items"
   ]
  },
  {
   "cell_type": "code",
   "execution_count": 12,
   "metadata": {},
   "outputs": [
    {
     "name": "stdout",
     "output_type": "stream",
     "text": [
      "key:k1, value:v1\n",
      "key:k2, value:v2\n",
      "key:k3, value:v3\n",
      "key:k4, value:v4\n"
     ]
    }
   ],
   "source": [
    "for k,v in d.items(): # nice example of tuple unpacking!! remember this works on d.items() by default you will get keys only \n",
    "    print(f\"key:{k}, value:{v}\")"
   ]
  },
  {
   "cell_type": "markdown",
   "metadata": {},
   "source": [
    "## while loop and break pass and continue statements "
   ]
  },
  {
   "cell_type": "code",
   "execution_count": 14,
   "metadata": {},
   "outputs": [
    {
     "name": "stdout",
     "output_type": "stream",
     "text": [
      "2\n",
      "4\n",
      "5\n",
      "7\n"
     ]
    }
   ],
   "source": [
    "x=1\n",
    "while x<7:\n",
    "    x+=1\n",
    "    if x % 3 == 0:\n",
    "        continue   # go back to the start of closest enclosing loop\n",
    "    print(x)"
   ]
  },
  {
   "cell_type": "code",
   "execution_count": 15,
   "metadata": {},
   "outputs": [
    {
     "name": "stdout",
     "output_type": "stream",
     "text": [
      "2\n"
     ]
    }
   ],
   "source": [
    "x=1\n",
    "while x<7:\n",
    "    x+=1\n",
    "    if x % 3 == 0:\n",
    "        break # break the loop \n",
    "    print(x)"
   ]
  },
  {
   "cell_type": "code",
   "execution_count": 16,
   "metadata": {},
   "outputs": [
    {
     "name": "stdout",
     "output_type": "stream",
     "text": [
      "2\n",
      "3\n",
      "4\n",
      "5\n",
      "6\n",
      "7\n"
     ]
    }
   ],
   "source": [
    "x=1\n",
    "while x<7:\n",
    "    x+=1\n",
    "    if x % 3 == 0:\n",
    "        pass  # does nothing may be required for avoiding syntax error as a placeholder\n",
    "    print(x) "
   ]
  },
  {
   "cell_type": "markdown",
   "metadata": {},
   "source": [
    "## Useful Operators in Python "
   ]
  },
  {
   "cell_type": "code",
   "execution_count": 22,
   "metadata": {},
   "outputs": [
    {
     "name": "stdout",
     "output_type": "stream",
     "text": [
      "0\n",
      "3\n",
      "6\n",
      "9\n",
      "range(0, 6, 2)\n",
      "[0, 2, 4]\n"
     ]
    }
   ],
   "source": [
    "for i in range(0,12,3):  # range generator, upto but not including '12' in steps of 3 \n",
    "    print(f\"{i}\")\n",
    "print (range(0,6,2))\n",
    "print (list(range(0,6,2))) # need to typecast to get the list as it is a generator"
   ]
  },
  {
   "cell_type": "code",
   "execution_count": 24,
   "metadata": {},
   "outputs": [
    {
     "name": "stdout",
     "output_type": "stream",
     "text": [
      "(0, 'a')\n",
      "(1, 'b')\n",
      "(2, 'c')\n",
      "(3, 'd')\n",
      "(4, 'e')\n",
      "(5, 'f')\n",
      "(6, 'g')\n",
      "(7, 'h')\n",
      "(8, 'i')\n",
      "(9, 'j')\n",
      "0 a\n",
      "1 b\n",
      "2 c\n",
      "3 d\n",
      "4 e\n",
      "5 f\n",
      "6 g\n",
      "7 h\n",
      "8 i\n",
      "9 j\n"
     ]
    }
   ],
   "source": [
    "s = 'abcdefghij'\n",
    "for i in enumerate(s): # enumerate gives back a tuple with index and value which can be unpacked and avoid counting indexes\n",
    "    print(i)\n",
    "    \n",
    "for i,v in enumerate(s): # unpacking the tuple returned by enumerate\n",
    "    print(i,v)\n",
    "  "
   ]
  },
  {
   "cell_type": "code",
   "execution_count": 25,
   "metadata": {},
   "outputs": [
    {
     "name": "stdout",
     "output_type": "stream",
     "text": [
      "1 a 100\n",
      "2 b 200\n",
      "3 c 300\n",
      "<zip object at 0x10630cbc8>\n",
      "[(1, 100), (2, 200), (3, 300)]\n"
     ]
    }
   ],
   "source": [
    "l1 =[1,2,3,4,5,6]\n",
    "l2=['a','b','c']\n",
    "l3=[100,200,300]\n",
    "for a,b,c in zip(l1,l2,l3): # zip to zip together multiple lists, ignores out of range stuff doesnt throw an error\n",
    "    print(a,b,c)\n",
    "\n",
    "print(zip(l1,l2)) # wont give what we are looking for \n",
    "print (list(zip(l1,l3))) # need to  cast to get the zipped list"
   ]
  },
  {
   "cell_type": "code",
   "execution_count": 27,
   "metadata": {},
   "outputs": [
    {
     "data": {
      "text/plain": [
       "False"
      ]
     },
     "execution_count": 27,
     "metadata": {},
     "output_type": "execute_result"
    }
   ],
   "source": [
    "'d' in ['a','b','c'] # in operator checking if this item was preent in the list"
   ]
  },
  {
   "cell_type": "code",
   "execution_count": 29,
   "metadata": {},
   "outputs": [
    {
     "name": "stdout",
     "output_type": "stream",
     "text": [
      "True\n",
      "True\n",
      "False\n",
      "True\n"
     ]
    }
   ],
   "source": [
    "d = {'k':'v','k1':'v1'}\n",
    "print ('k' in d) # checks inkeys by default\n",
    "print (('k','v') in d.items()) # tuple for checking in items \n",
    "print ('k' in d.values()) # or values if need to check in values \n",
    "print ('k' in d.keys()) "
   ]
  },
  {
   "cell_type": "code",
   "execution_count": 31,
   "metadata": {},
   "outputs": [
    {
     "name": "stdout",
     "output_type": "stream",
     "text": [
      "1\n",
      "6\n"
     ]
    }
   ],
   "source": [
    "print(min(l1)) # in built funcitons min, max return a value \n",
    "print(max(l1))"
   ]
  },
  {
   "cell_type": "code",
   "execution_count": 35,
   "metadata": {
    "collapsed": true
   },
   "outputs": [],
   "source": [
    "from random import shuffle\n",
    "from random import randint"
   ]
  },
  {
   "cell_type": "code",
   "execution_count": 38,
   "metadata": {},
   "outputs": [
    {
     "name": "stdout",
     "output_type": "stream",
     "text": [
      "[1, 5, 2, 6, 4, 3]\n",
      "<class 'NoneType'>\n",
      "[6, 1, 4, 3, 2, 5]\n",
      "286\n"
     ]
    }
   ],
   "source": [
    "print(l1)\n",
    "print(type(shuffle(l1))) # shuffle does an inplace shuffle, shuffles the list, doesnt return anything \n",
    "print(l1)\n",
    "print(randint(0,900)) # randint does return a value"
   ]
  },
  {
   "cell_type": "markdown",
   "metadata": {},
   "source": [
    "## List Comprehension"
   ]
  },
  {
   "cell_type": "code",
   "execution_count": 6,
   "metadata": {},
   "outputs": [
    {
     "data": {
      "text/plain": [
       "['a', 'b', 'c', 'd', 'e']"
      ]
     },
     "execution_count": 6,
     "metadata": {},
     "output_type": "execute_result"
    }
   ],
   "source": [
    "mylist = [x for x in 'abcde'];\n",
    "mylist"
   ]
  },
  {
   "cell_type": "code",
   "execution_count": 43,
   "metadata": {},
   "outputs": [
    {
     "name": "stdout",
     "output_type": "stream",
     "text": [
      "[1, 4, 7, 10]\n",
      "['a', 'b', 'c', 'd', 'e']\n",
      "[16, 100]\n"
     ]
    }
   ],
   "source": [
    "s = 'abcde'\n",
    "n=list(range(1,12,3))\n",
    "l1 = [ l for l in s] # quickly create a list by iterating over an existing data structure \n",
    "print(n)\n",
    "l2 = [ l**2 for l in n if l%2==0] # combine some process and conditions while doing so \n",
    "print(l1)\n",
    "print(l2)\n"
   ]
  },
  {
   "cell_type": "code",
   "execution_count": 47,
   "metadata": {},
   "outputs": [
    {
     "name": "stdout",
     "output_type": "stream",
     "text": [
      "[1, 2, 3]\n",
      "[1, 2, 3, 2, 4, 6, 3, 6, 9]\n"
     ]
    }
   ],
   "source": [
    "l1 =[1,2,3]\n",
    "l2 = [ l**2 if l%2==0  else 'odd' for l in n ] # order changed to get if and else in list comprehension\n",
    "print(l1)\n",
    "l3 = [x*y for x in l1 for y in l1] # nested loop in list comprehension \n",
    "print(l3)\n"
   ]
  },
  {
   "cell_type": "code",
   "execution_count": 48,
   "metadata": {},
   "outputs": [
    {
     "name": "stdout",
     "output_type": "stream",
     "text": [
      "hey wassup?nothing much learning python\n"
     ]
    }
   ],
   "source": [
    "i = str (input('hey wassup?')) # get an input, by default string typecast to int if you want the int from the string"
   ]
  },
  {
   "cell_type": "markdown",
   "metadata": {},
   "source": [
    "## Map and filter functions"
   ]
  },
  {
   "cell_type": "code",
   "execution_count": 9,
   "metadata": {},
   "outputs": [],
   "source": [
    "def sq(n=0):\n",
    "    return n**2"
   ]
  },
  {
   "cell_type": "code",
   "execution_count": 10,
   "metadata": {},
   "outputs": [
    {
     "data": {
      "text/plain": [
       "<map at 0x7f81f16d04f0>"
      ]
     },
     "execution_count": 10,
     "metadata": {},
     "output_type": "execute_result"
    }
   ],
   "source": [
    "l = [1,2,3,4,5,6]\n",
    "map(sq,l) # map each element in the list to the function, notice no () in fucntion name since not executing "
   ]
  },
  {
   "cell_type": "code",
   "execution_count": 11,
   "metadata": {},
   "outputs": [
    {
     "name": "stdout",
     "output_type": "stream",
     "text": [
      "1\n",
      "4\n",
      "9\n",
      "16\n",
      "25\n",
      "36\n",
      "[1, 4, 9, 16, 25, 36]\n"
     ]
    }
   ],
   "source": [
    "for i in map(sq,l): # generator. wont retunr anything unless iterated over or cast\n",
    "    print(i)\n",
    "    \n",
    "l1 = list (map(sq,l))  # hence needs to be typecast if we wanted to print or assign anywhere\n",
    "print(l1) "
   ]
  },
  {
   "cell_type": "code",
   "execution_count": 12,
   "metadata": {},
   "outputs": [
    {
     "data": {
      "text/plain": [
       "[1, 2, 3, 4, 5, 6]"
      ]
     },
     "execution_count": 12,
     "metadata": {},
     "output_type": "execute_result"
    }
   ],
   "source": [
    "l # doesnt change the original list!"
   ]
  },
  {
   "cell_type": "code",
   "execution_count": 54,
   "metadata": {
    "collapsed": true
   },
   "outputs": [],
   "source": [
    "def check_even(n=0):\n",
    "    return n%2 == 0"
   ]
  },
  {
   "cell_type": "code",
   "execution_count": 55,
   "metadata": {},
   "outputs": [
    {
     "data": {
      "text/plain": [
       "[2, 4, 6]"
      ]
     },
     "execution_count": 55,
     "metadata": {},
     "output_type": "execute_result"
    }
   ],
   "source": [
    "filter (check_even,l) # retains only items that get a true from the mapped function list \n",
    "list (filter(check_even,l)) # for filter to work mapped function has to retunr boolean\n",
    " "
   ]
  },
  {
   "cell_type": "code",
   "execution_count": 56,
   "metadata": {},
   "outputs": [
    {
     "data": {
      "text/plain": [
       "[1, 4, 9, 16, 25, 36]"
      ]
     },
     "execution_count": 56,
     "metadata": {},
     "output_type": "execute_result"
    }
   ],
   "source": [
    "list(map (lambda num: num**2, l)) # these were simple function so instead of defining them use lambda epxression and map them\n",
    "# note the lack of def keyword and return keyword, as they are not needed"
   ]
  },
  {
   "cell_type": "code",
   "execution_count": 8,
   "metadata": {},
   "outputs": [
    {
     "data": {
      "text/plain": [
       "[1, 4, 9]"
      ]
     },
     "execution_count": 8,
     "metadata": {},
     "output_type": "execute_result"
    }
   ],
   "source": [
    "l=[1,2,3]\n",
    "list(map(lambda num: num**2, l))"
   ]
  },
  {
   "cell_type": "code",
   "execution_count": null,
   "metadata": {},
   "outputs": [],
   "source": []
  },
  {
   "cell_type": "code",
   "execution_count": null,
   "metadata": {},
   "outputs": [],
   "source": []
  },
  {
   "cell_type": "code",
   "execution_count": null,
   "metadata": {},
   "outputs": [],
   "source": []
  },
  {
   "cell_type": "code",
   "execution_count": 58,
   "metadata": {},
   "outputs": [
    {
     "data": {
      "text/plain": [
       "[2, 4, 6]"
      ]
     },
     "execution_count": 58,
     "metadata": {},
     "output_type": "execute_result"
    }
   ],
   "source": [
    "list(filter(lambda num: num%2==0, l)) # of filter in conjunction with lambda expression "
   ]
  },
  {
   "cell_type": "code",
   "execution_count": 59,
   "metadata": {},
   "outputs": [
    {
     "data": {
      "text/plain": [
       "['ihba', 'ahen', 'utohhc']"
      ]
     },
     "execution_count": 59,
     "metadata": {},
     "output_type": "execute_result"
    }
   ],
   "source": [
    "names =['abhi','neha', 'chhotu'] # using lambda epxression to reverse a string \n",
    "list(map(lambda n: n[::-1], names))"
   ]
  },
  {
   "cell_type": "code",
   "execution_count": 49,
   "metadata": {},
   "outputs": [
    {
     "data": {
      "text/plain": [
       "'nothing much learning python'"
      ]
     },
     "execution_count": 49,
     "metadata": {},
     "output_type": "execute_result"
    }
   ],
   "source": [
    "\n",
    "\n",
    "i"
   ]
  }
 ],
 "metadata": {
  "kernelspec": {
   "display_name": "Python 3 (ipykernel)",
   "language": "python",
   "name": "python3"
  },
  "language_info": {
   "codemirror_mode": {
    "name": "ipython",
    "version": 3
   },
   "file_extension": ".py",
   "mimetype": "text/x-python",
   "name": "python",
   "nbconvert_exporter": "python",
   "pygments_lexer": "ipython3",
   "version": "3.11.3"
  }
 },
 "nbformat": 4,
 "nbformat_minor": 2
}
